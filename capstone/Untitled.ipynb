{
 "cells": [
  {
   "cell_type": "code",
   "execution_count": null,
   "id": "8f9bc64a",
   "metadata": {},
   "outputs": [],
   "source": [
    "from datetime import datetime, timedelta\n",
    "\n",
    "# Define the bi-weekly task logic\n",
    "def run_biweekly_task():\n",
    "    print(f\"Running bi-weekly task at {datetime.now()}\")\n",
    "    \n",
    "    # Add your bi-weekly task logic here (e.g., retraining a model)\n",
    "    print(\"Retraining machine learning model...\")\n",
    "    \n",
    "    # Example: Perform data analysis or other longer-running tasks\n",
    "    print(\"Performing bi-weekly data analysis...\")\n",
    "    \n",
    "    # Example: Save results or generate reports\n",
    "    print(\"Generating bi-weekly reports...\")\n",
    "    \n",
    "    print(\"Bi-weekly task completed.\")\n",
    "\n",
    "# Define the daily task logic\n",
    "def run_daily_task():\n",
    "    print(f\"Running daily task at {datetime.now()}\")\n",
    "    \n",
    "    # Add your daily task logic here (e.g., pulling API data)\n",
    "    print(\"Fetching daily data from the API...\")\n",
    "    \n",
    "    # Example: Process the data\n",
    "    print(\"Processing daily data...\")\n",
    "    \n",
    "    # Example: Save the results\n",
    "    print(\"Saving daily results...\")\n",
    "    \n",
    "    print(\"Daily task completed.\")\n",
    "\n",
    "# Get the current date and time\n",
    "now = datetime.now()\n",
    "\n",
    "# Logic to check if it's time to run the bi-weekly task\n",
    "# Let's assume bi-weekly tasks should run on Mondays every two weeks\n",
    "if now.weekday() == 0:  # Monday (0 is Monday, 6 is Sunday)\n",
    "    last_run = datetime(2024, 1, 1)  # Replace this with your last known bi-weekly run date\n",
    "    if (now - last_run).days % 14 == 0:  # Check if two weeks have passed\n",
    "        run_biweekly_task()\n",
    "    else:\n",
    "        run_daily_task()  # If it's Monday but not bi-weekly, run daily task\n",
    "else:\n",
    "    run_daily_task()  # If it's not Monday, run the daily task\n"
   ]
  }
 ],
 "metadata": {
  "kernelspec": {
   "display_name": "Python 3 (ipykernel)",
   "language": "python",
   "name": "python3"
  },
  "language_info": {
   "codemirror_mode": {
    "name": "ipython",
    "version": 3
   },
   "file_extension": ".py",
   "mimetype": "text/x-python",
   "name": "python",
   "nbconvert_exporter": "python",
   "pygments_lexer": "ipython3",
   "version": "3.11.3"
  }
 },
 "nbformat": 4,
 "nbformat_minor": 5
}
